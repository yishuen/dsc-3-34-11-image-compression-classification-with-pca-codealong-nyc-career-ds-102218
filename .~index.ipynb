{
 "cells": [
  {
   "cell_type": "markdown",
   "metadata": {},
   "source": [
    "# Image Compression and Classification with PCA - code along\n",
    "\n",
    "## Introduction\n",
    "In the last lesson, we looked at how PCA plays an important role in the field of image processing by allowing us to compress and simplify high dimensional image data for faster processing and simplicity of analysis. In this code along, we shall look at applying these techniques to the popular MNIST dataset, before attempting to calculate Eigenfaces in the next lab. This code along style lab will introduce you to all the required steps which with an understanding of underlying mechanism.\n",
    "\n",
    "## Objectives\n",
    "You will be able to:\n",
    "- Apply PCA to MNIST, or a similar image based dataset\n",
    "- Inspect the effect of number of principal components on explained variance and vice versa, for image data.\n",
    "- Run a classifier using PCA components and inspect the impact on classification accuracy"
   ]
  },
  {
   "cell_type": "markdown",
   "metadata": {},
   "source": [
    "## MNIST DATASET\n",
    "\n",
    "The MNIST dataset contains handwritten digits. MNIST is a popular labeled dataset for practicing image processing techniques and contains a training set of 60,000 examples, and a test set of 10,000 examples. It is a subset of a larger set available from [NIST](https://www.nist.gov/srd/nist-special-database-19). The digits have been size-normalized and centered in a fixed-size image. Here is sample of images that you would find in MNIST dataset. \n",
    "\n",
    "<img src=\"mnist.png\" width=500>\n",
    "\n",
    "This is an excellent dataset for aspiring data scientists, wanting to try learning techniques and pattern recognition methods on real-world data while spending minimal efforts on preprocessing and formatting.\n",
    "\n",
    "The MNIST database of handwritten digits is available on the following website: [MNIST Dataset](http://yann.lecun.com/exdb/mnist/). Do visit some of the provided links to see how researchers and practitioners are using this dataset for developing cutting machine learning algorithms in the domain of computer vision/image processing.\n",
    "\n",
    "\n",
    "Parameters | Number\n",
    "--- | ---\n",
    "Classes | 10\n",
    "Samples per class | ~7000 samples per class\n",
    "Samples total | 70000\n",
    "Dimensionality | 784\n",
    "Features | integers values from 0 to 255"
   ]
  },
  {
   "cell_type": "markdown",
   "metadata": {},
   "source": [
    "Let's load this dataset into our working environment. First we need the necessary libraries required for this experiment. "
   ]
  },
  {
   "cell_type": "markdown",
   "metadata": {},
   "source": [
    "### Import Necessary Libraries\n",
    "\n",
    "```python\n",
    "# Import necessary libraries \n",
    "\n",
    "from sklearn.datasets import fetch_mldata\n",
    "from sklearn.decomposition import PCA\n",
    "from sklearn.preprocessing import StandardScaler\n",
    "from sklearn import metrics\n",
    "from sklearn.model_selection import train_test_split\n",
    "import matplotlib.pyplot as plt\n",
    "import numpy as np\n",
    "import pandas as pd\n",
    "```"
   ]
  },
  {
   "cell_type": "code",
   "execution_count": 1,
   "metadata": {},
   "outputs": [],
   "source": [
    "# code here "
   ]
  },
  {
   "cell_type": "markdown",
   "metadata": {},
   "source": [
    "### Download and Inspect the Dataset\n",
    "\n",
    "MNIST dataset can be downloaded with scikit-learn for experimentation. We shall use `fetch_mldata()` to import this dataset into our environment. \n",
    "\n",
    "```python\n",
    "# Download the dataset\n",
    "digits = fetch_mldata('MNIST original')\n",
    "digits\n",
    "```"
   ]
  },
  {
   "cell_type": "code",
   "execution_count": 2,
   "metadata": {},
   "outputs": [
    {
     "data": {
      "text/plain": [
       "{'COL_NAMES': ['label', 'data'],\n",
       " 'DESCR': 'mldata.org dataset: mnist-original',\n",
       " 'data': array([[0, 0, 0, ..., 0, 0, 0],\n",
       "        [0, 0, 0, ..., 0, 0, 0],\n",
       "        [0, 0, 0, ..., 0, 0, 0],\n",
       "        ...,\n",
       "        [0, 0, 0, ..., 0, 0, 0],\n",
       "        [0, 0, 0, ..., 0, 0, 0],\n",
       "        [0, 0, 0, ..., 0, 0, 0]], dtype=uint8),\n",
       " 'target': array([0., 0., 0., ..., 9., 9., 9.])}"
      ]
     },
     "execution_count": 2,
     "metadata": {},
     "output_type": "execute_result"
    }
   ],
   "source": [
    "# code here "
   ]
  },
  {
   "cell_type": "markdown",
   "metadata": {},
   "source": [
    "The dataset contains both features (as digits.data) and target labels (as digits.target). Let's quickly check these for size. \n",
    "\n",
    "```python\n",
    "# Features in MNIST\n",
    "feat = digits.data\n",
    "print('Features:', feat.shape)\n",
    "\n",
    "# Targets in MNIST\n",
    "target = digits.target\n",
    "print('Target:', target.shape)\n",
    "```"
   ]
  },
  {
   "cell_type": "code",
   "execution_count": 3,
   "metadata": {},
   "outputs": [
    {
     "name": "stdout",
     "output_type": "stream",
     "text": [
      "Features: (70000, 784)\n",
      "Target: (70000,)\n"
     ]
    }
   ],
   "source": [
    "# code here "
   ]
  },
  {
   "cell_type": "markdown",
   "metadata": {},
   "source": [
    "#### Viewing Images and labels in the dataset \n",
    "Above we can see that data is saved as arrays of 0/1 digits, following the digitization approach we saw in the previous lesson. We can visualize these arrays as images as shown below:\n",
    "\n",
    "```python\n",
    "# View the first image\n",
    "first_image = digits.data[0]\n",
    "first_image = np.array(first_image, dtype='float')\n",
    "pixels = first_image.reshape((28, 28))\n",
    "plt.imshow(pixels, cmap='gray_r')\n",
    "plt.axis('off')\n",
    "plt.show()\n",
    "print ('Label:',digits.target[0])\n",
    "\n",
    "# View last image \n",
    "last_image = digits.data[-1]\n",
    "first_image = np.array(last_image, dtype='float')\n",
    "pixels = last_image.reshape((28, 28))\n",
    "plt.imshow(pixels, cmap='gray_r')\n",
    "plt.axis('off')\n",
    "plt.show()\n",
    "print ('Label:',digits.target[-1])\n",
    "\n",
    "```"
   ]
  },
  {
   "cell_type": "code",
   "execution_count": 4,
   "metadata": {
    "scrolled": false
   },
   "outputs": [
    {
     "data": {
      "image/png": "[encoded data removed]",
      "text/plain": [
       "<matplotlib.figure.Figure at 0x1a12061e80>"
      ]
     },
     "metadata": {},
     "output_type": "display_data"
    },
    {
     "name": "stdout",
     "output_type": "stream",
     "text": [
      "Label: 0.0\n"
     ]
    },
    {
     "data": {
      "image/png": "[encoded data removed]",
      "text/plain": [
       "<matplotlib.figure.Figure at 0x1a1aefbd30>"
      ]
     },
     "metadata": {},
     "output_type": "display_data"
    },
    {
     "name": "stdout",
     "output_type": "stream",
     "text": [
      "Label: 9\n"
     ]
    }
   ],
   "source": [
    "# code here "
   ]
  },
  {
   "cell_type": "markdown",
   "metadata": {},
   "source": [
    "Here we visualized the first and last image in the features dataset and pulled their labels for the target. "
   ]
  },
  {
   "cell_type": "markdown",
   "metadata": {},
   "source": [
    "### Feature Standardization\n",
    "\n",
    "Just like any other other dataset, the first step in applying PCA is always normalization of data. We shall use the` StandardScaler()` from scikit-learn to standardize the features set. Remember, targets are just class labels and don't need any pre-processing. \n",
    "\n",
    "```python\n",
    "from sklearn.preprocessing import StandardScaler\n",
    "# Create a scalar instance \n",
    "scaler = StandardScaler()\n",
    "\n",
    "# Fit the features only, labels dont need transformation\n",
    "digits.data = scaler.fit_transform(digits.data)\n",
    "```"
   ]
  },
  {
   "cell_type": "code",
   "execution_count": 5,
   "metadata": {},
   "outputs": [
    {
     "name": "stderr",
     "output_type": "stream",
     "text": [
      "/anaconda3/lib/python3.6/site-packages/sklearn/utils/validation.py:475: DataConversionWarning: Data with input dtype uint8 was converted to float64 by StandardScaler.\n",
      "  warnings.warn(msg, DataConversionWarning)\n"
     ]
    }
   ],
   "source": [
    "# code here "
   ]
  },
  {
   "cell_type": "markdown",
   "metadata": {},
   "source": [
    "### PCA with 95% Variance Retention\n",
    "\n",
    "Earlier, we looked an instantiating PCA with a set number of components. We can also run a PCA while defining the required amount of variance that we expect our resulting principal components to retain. This can be passed in as a value from 0 (no variance) - 1 (100% variance). Let's try it with 95% variance retention with our data and see how many components we need.  \n",
    "\n",
    "```python\n",
    "# Perform PCA \n",
    "from sklearn.decomposition import PCA\n",
    "pca = PCA(.95) # Retain 95% of the variance\n",
    "digits_low_dim = pca.fit_transform(digits.data)\n",
    "pca.n_components_ # Check number of components for required variance\n",
    "```"
   ]
  },
  {
   "cell_type": "code",
   "execution_count": 6,
   "metadata": {},
   "outputs": [
    {
     "data": {
      "text/plain": [
       "332"
      ]
     },
     "execution_count": 6,
     "metadata": {},
     "output_type": "execute_result"
    }
   ],
   "source": [
    "# code here "
   ]
  },
  {
   "cell_type": "markdown",
   "metadata": {},
   "source": [
    "So we need 332 components in total to explain 95% of variation in the data. Not a bad start. \n",
    "\n",
    "> __Going from 784 features to 332 components help reduce the running time of a supervised learning algorithm. We can also go from compressed representation back to an approximation of the original high dimensional data (784 components).__"
   ]
  },
  {
   "cell_type": "markdown",
   "metadata": {},
   "source": [
    "### PCA - Inverse Transform (transforming low dimensional, data back to its original space)\n",
    "\n",
    "\n",
    "We can compare an observations from before and after PCA to see if there is any loss in the quality of the image. `pca.inverse_transform()` method allows us to reconstruct the image achieve this goal. Visit [this link](https://stats.stackexchange.com/questions/229092/how-to-reverse-pca-and-reconstruct-original-variables-from-several-principal-com) for details on how this method works behind the scenes. \n",
    "\n",
    "> Linear dimensionality reduction using Singular Value Decomposition of the data to project it to a lower dimensional space\n",
    "\n",
    "```python\n",
    "# Reconstruct the original image \n",
    "reconstruction = pca.inverse_transform(digits_low_dim)\n",
    "```"
   ]
  },
  {
   "cell_type": "code",
   "execution_count": 7,
   "metadata": {},
   "outputs": [],
   "source": [
    "# code here "
   ]
  },
  {
   "cell_type": "markdown",
   "metadata": {},
   "source": [
    "#### So we can now view pre and post PCA data for a particular example in our dataset as shown below:\n",
    "    \n",
    "```python\n",
    "    \n",
    "import matplotlib.pyplot as plt\n",
    "plt.style.use('seaborn-dark')\n",
    "plt.figure(figsize=(8,4));\n",
    "\n",
    "# Original Image\n",
    "plt.subplot(1, 2, 1);\n",
    "plt.imshow(feat[1].reshape(28,28))\n",
    "plt.xlabel('784 components', fontsize = 14)\n",
    "plt.title('Original Image', fontsize = 20);\n",
    "\n",
    "# 154 principal components\n",
    "plt.subplot(1, 2, 2);\n",
    "plt.imshow(reconstruction[1].reshape(28, 28))\n",
    "plt.xlabel('332 components', fontsize = 14)\n",
    "plt.title('95% of Explained Variance', fontsize = 20);\n",
    "plt.show()\n",
    "```"
   ]
  },
  {
   "cell_type": "code",
   "execution_count": 8,
   "metadata": {},
   "outputs": [
    {
     "data": {
      "image/png": "[encoded data removed]",
      "text/plain": [
       "<matplotlib.figure.Figure at 0x1a1afaf2b0>"
      ]
     },
     "metadata": {},
     "output_type": "display_data"
    }
   ],
   "source": [
    "# code here "
   ]
  },
  {
   "cell_type": "markdown",
   "metadata": {},
   "source": [
    "Above, we can see that even with such a huge reduction in the number of features, the the image is still maintaining most of its identifying characteristics. There is some noise apparent in the data as a result of this. However, we will shortly see that for classification purpose, it doesn't harm the analysis too much. "
   ]
  },
  {
   "cell_type": "markdown",
   "metadata": {},
   "source": [
    "## Simulation for Explained Variance vs. Number of components\n",
    "\n",
    "In order to see how variance and numbers of components relate to each other, we can calculate variance explained with respect to number of components. Such analysis could be a useful way to get an objective indication on how much dimensionality reduction can we perform, and at what cost in terms of variance retention. \n",
    "\n",
    "Let's run another instance of PCA without specifying the dimensions or variance as shown below:\n",
    "\n",
    "```python\n",
    "# if n_components is not set all components are kept (784 in this case)\n",
    "pca = PCA()\n",
    "pca.fit(digits.data)\n",
    "pca.n_components_\n",
    "```"
   ]
  },
  {
   "cell_type": "code",
   "execution_count": 9,
   "metadata": {},
   "outputs": [
    {
     "data": {
      "text/plain": [
       "784"
      ]
     },
     "execution_count": 9,
     "metadata": {},
     "output_type": "execute_result"
    }
   ],
   "source": [
    "# code here "
   ]
  },
  {
   "cell_type": "markdown",
   "metadata": {},
   "source": [
    "So the number of components here is exactly the same as number of features in the original dataset as expected. Let's calculate the total variance explained by these 784 components. \n",
    "\n",
    "```python\n",
    "# Summing explained variance\n",
    "tot = sum(pca.explained_variance_)\n",
    "tot\n",
    "```"
   ]
  },
  {
   "cell_type": "code",
   "execution_count": 10,
   "metadata": {},
   "outputs": [
    {
     "name": "stdout",
     "output_type": "stream",
     "text": [
      "[40.57172851 29.05682915 26.87856923 20.80096479 18.12446406]\n",
      "719.010271575293\n"
     ]
    }
   ],
   "source": [
    "# code here "
   ]
  },
  {
   "cell_type": "markdown",
   "metadata": {},
   "source": [
    "We see a huge numbers here. That is because the variance is not normalized in this case. We can normalize each variance value explained by individual components and normalize it as below:\n",
    "```python\n",
    "# Normalized explained variance\n",
    "var_exp = [(i/tot)*100 for i in sorted(pca.explained_variance_, reverse=True)] \n",
    "print(var_exp[0:5])\n",
    "sum(var_exp)\n",
    "```"
   ]
  },
  {
   "cell_type": "code",
   "execution_count": 11,
   "metadata": {},
   "outputs": [
    {
     "name": "stdout",
     "output_type": "stream",
     "text": [
      "[5.6427189026198405, 4.0412258761615, 3.738273331486544, 2.892999670315867, 2.5207517581332257]\n"
     ]
    },
    {
     "data": {
      "text/plain": [
       "100.00000000000009"
      ]
     },
     "execution_count": 11,
     "metadata": {},
     "output_type": "execute_result"
    }
   ],
   "source": [
    "# code here "
   ]
  },
  {
   "cell_type": "markdown",
   "metadata": {},
   "source": [
    "This looks much better. Our values show a percentage of variance explained. Also `reverse=True` arranges these values in a descending order. Now we can calculate the cumulative variance as we add more dimensions , starting from 1 and going all the way to 784. We can use numpy's `cumsum()` to achieve this. \n",
    "\n",
    "```python\n",
    "# Cumulative explained variance\n",
    "cum_var_exp = np.cumsum(var_exp) \n",
    "plt.style.use('ggplot')\n",
    "plt.figure(figsize=(15, 8))\n",
    "plt.plot(cum_var_exp)\n",
    "plt.title('Cumulative Explained Variance as a Function of the Number of Components');\n",
    "```"
   ]
  },
  {
   "cell_type": "code",
   "execution_count": 12,
   "metadata": {},
   "outputs": [
    {
     "data": {
      "image/png": "[encoded data removed]",
      "text/plain": [
       "<matplotlib.figure.Figure at 0x1a12061320>"
      ]
     },
     "metadata": {},
     "output_type": "display_data"
    }
   ],
   "source": [
    "# code here "
   ]
  },
  {
   "cell_type": "markdown",
   "metadata": {},
   "source": [
    "Above we see a cumulative function for variance explained with respect to number of components. LEt's add a bit more information to this plot and make it more meaningful. \n",
    "\n",
    "```python\n",
    "# Cumulative Variance w.r.t. number of components\n",
    "plt.style.use('ggplot')\n",
    "plt.figure(figsize=(15, 8))\n",
    "plt.step(range(1, 785), cum_var_exp, where='mid',label='Cumulative Explained Variance')\n",
    "plt.title('Cumulative Explained Variance as a Function of the Number of Components')\n",
    "plt.ylabel('Cumulative Explained variance')\n",
    "plt.xlabel('Principal components')\n",
    "plt.axhline(y = 95, color='k', linestyle='--', label = '95% Explained Variance')\n",
    "plt.axhline(y = 90, color='c', linestyle='--', label = '90% Explained Variance')\n",
    "plt.axhline(y = 85, color='r', linestyle='--', label = '85% Explained Variance')\n",
    "plt.legend()\n",
    "plt.show()\n",
    "```"
   ]
  },
  {
   "cell_type": "code",
   "execution_count": 13,
   "metadata": {},
   "outputs": [
    {
     "data": {
      "image/png": "[encoded data removed]",
      "text/plain": [
       "<matplotlib.figure.Figure at 0x1a1e3df710>"
      ]
     },
     "metadata": {},
     "output_type": "display_data"
    }
   ],
   "source": [
    "# code here "
   ]
  },
  {
   "cell_type": "markdown",
   "metadata": {},
   "source": [
    "This explains a lot. We need around 238 components to explain 90% of varaince. Around 150 components for 80% variance , and so on. Let's get an idea about components required for a number of variance values, so we can visually inspect how components and variance relates to the appearance of images in the dataset. "
   ]
  },
  {
   "cell_type": "markdown",
   "metadata": {},
   "source": [
    "We can check tour cumulative function for any particular variance value and see how many components do we need. Let's check this for 99%, 95%, 90%, and 85% of Explained Variance\n",
    "```python\n",
    "# check number of components for given explained variance\n",
    "componentsVariance = [784, np.argmax(cum_var_exp > 99) + 1, \n",
    "                      np.argmax(cum_var_exp > 95) + 1, \n",
    "                      np.argmax(cum_var_exp > 90) + 1, \n",
    "                      np.argmax(cum_var_exp >= 85) + 1] # Adding one as index starts from 0.\n",
    "componentsVariance\n",
    "```"
   ]
  },
  {
   "cell_type": "code",
   "execution_count": 14,
   "metadata": {},
   "outputs": [
    {
     "data": {
      "text/plain": [
       "[784, 544, 332, 238, 186]"
      ]
     },
     "execution_count": 14,
     "metadata": {},
     "output_type": "execute_result"
    }
   ],
   "source": [
    "# code here "
   ]
  },
  {
   "cell_type": "markdown",
   "metadata": {},
   "source": [
    "## Visualize PCA Images \n",
    "\n",
    "So how does all of above actually effect the visual aspect of the image. Let's write a simple function that accept percentage variance required with the image dataset to run PCA and return the images post-PCA. \n",
    "\n",
    "```python\n",
    "# Run PCA on a given dataset with explained variance\n",
    "n_comp = 0 # For storing current number of components\n",
    "\n",
    "def explainedVariance(percentage, images): \n",
    "    global n_comp # write global variable\n",
    "    \n",
    "    # percentage should be a decimal from 0 to 1 \n",
    "    pca = PCA(percentage)\n",
    "    pca.fit(images)\n",
    "    components = pca.transform(images)\n",
    "    # Apply inverse transform as seen above\n",
    "    approxOriginal = pca.inverse_transform(components)\n",
    "    n_comp = pca.n_components_\n",
    "    return approxOriginal\n",
    "```"
   ]
  },
  {
   "cell_type": "code",
   "execution_count": 15,
   "metadata": {},
   "outputs": [],
   "source": [
    "# code here "
   ]
  },
  {
   "cell_type": "markdown",
   "metadata": {},
   "source": [
    "Now we can call this function repeatedly with defined explained variance values and select an image to inspect the impact of component count on how the images appears. \n",
    "\n",
    "```python\n",
    "# Show image quality loss with respect to reduction in principal components\n",
    "plt.style.use('seaborn-dark')\n",
    "plt.figure(figsize=(20,4));\n",
    "\n",
    "# Original Image (784 components)\n",
    "plt.subplot(1, 5, 1);\n",
    "plt.imshow(digits.data[-1].reshape(28,28));\n",
    "plt.xlabel('784 Components', fontsize = 12)\n",
    "plt.title('Original Image', fontsize = 14);\n",
    "\n",
    "plt.subplot(1, 5, 2);\n",
    "plt.imshow(explainedVariance(.99, digits.data)[-1].reshape(28, 28));\n",
    "plt.title('99% of Explained Variance', fontsize = 14);\n",
    "plt.xlabel(str(n_comp)+ ' Components')\n",
    "\n",
    "plt.subplot(1, 5, 3);\n",
    "plt.imshow(explainedVariance(.95, digits.data)[-1].reshape(28, 28));\n",
    "plt.title('95% of Explained Variance', fontsize = 14);\n",
    "plt.xlabel(str(n_comp)+ ' Components')\n",
    "\n",
    "plt.subplot(1, 5, 4);\n",
    "plt.imshow(explainedVariance(.90, digits.data)[-1].reshape(28, 28));\n",
    "plt.title('90% of Explained Variance', fontsize = 14);\n",
    "plt.xlabel(str(n_comp)+ ' Components')\n",
    "\n",
    "plt.subplot(1, 5, 5);\n",
    "plt.imshow(explainedVariance(.85, digits.data)[-1].reshape(28, 28));\n",
    "plt.title('85% of Explained Variance', fontsize = 14);\n",
    "plt.xlabel(str(n_comp)+ ' Components')\n",
    "```"
   ]
  },
  {
   "cell_type": "code",
   "execution_count": 24,
   "metadata": {},
   "outputs": [
    {
     "data": {
      "text/plain": [
       "Text(0.5,0,'186 Components')"
      ]
     },
     "execution_count": 24,
     "metadata": {},
     "output_type": "execute_result"
    },
    {
     "data": {
      "image/png": "[encoded data removed]",
      "text/plain": [
       "<matplotlib.figure.Figure at 0x1a20ae9588>"
      ]
     },
     "metadata": {},
     "output_type": "display_data"
    }
   ],
   "source": [
    "# code here "
   ]
  },
  {
   "cell_type": "markdown",
   "metadata": {},
   "source": [
    "Here we see what \"visually\" happenes to the image as we reduce the number of components. Try running above routine again and check for lower values of explained variance. Also, check for different digits randomly from the dataset. This helps you make an informed decision about the quality-speed trade off. \n",
    "\n",
    "Visually, we may still be able to identify a 9 or any other digit. The real test here would be to pass this image data to a classifier and see how it performs. Let's try this with a simple multinomial logistic regression classifier next. "
   ]
  },
  {
   "cell_type": "markdown",
   "metadata": {},
   "source": [
    "## Classifying Images using Learned Components \n",
    "\n",
    "Following the standard supervised learning practice, we shall split our data into train and test sets using a 75/25 split. You can try different split levels and see how it impacts the performance. \n",
    "\n",
    "```python\n",
    "# Create training and test datasets from standardized data \n",
    "X_train, X_test, y_train, y_test = train_test_split(digits.data, digits.target, test_size=0.25, random_state=10)\n",
    "```"
   ]
  },
  {
   "cell_type": "code",
   "execution_count": 17,
   "metadata": {},
   "outputs": [],
   "source": [
    "# code here "
   ]
  },
  {
   "cell_type": "markdown",
   "metadata": {},
   "source": [
    "### Apply PCA as a preprocessing technique\n",
    "\n",
    "We can now apply PCA on the training dataset while keeping 90% of explained variance. Again, you should try different values and study the impact on the outcome.\n",
    "\n",
    "```python\n",
    "# Run PCA with 90% explained variance\n",
    "from sklearn.decomposition import PCA\n",
    "pca = PCA(.90) # Retain 95% of the variance\n",
    "pca.fit(X_train)from \n",
    "pca.n_components_\n",
    "```"
   ]
  },
  {
   "cell_type": "code",
   "execution_count": 18,
   "metadata": {},
   "outputs": [
    {
     "data": {
      "text/plain": [
       "229"
      ]
     },
     "execution_count": 18,
     "metadata": {},
     "output_type": "execute_result"
    }
   ],
   "source": [
    " # code here "
   ]
  },
  {
   "cell_type": "markdown",
   "metadata": {},
   "source": [
    "We can now create our transformed training and test sets for logistic regression classifier as shown below:\n",
    "\n",
    "```python\n",
    "# Run a logistic regression classifier on transformed datasets\n",
    "from sklearn.linear_model import LogisticRegression\n",
    "\n",
    "# Create transformed test and train sets \n",
    "X_train = pca.transform(X_train)\n",
    "X_test = pca.transform(X_test)\n",
    "\n",
    "# default solver is incredibly slow thats why we change it to solver = 'lbfgs' (Broyden–Fletcher–Goldfarb–Shanno algorithm)\n",
    "\n",
    "logisticRegr = LogisticRegression(solver = 'lbfgs')\n",
    "logisticRegr.fit(X_train, y_train)\n",
    "```"
   ]
  },
  {
   "cell_type": "code",
   "execution_count": 19,
   "metadata": {},
   "outputs": [
    {
     "data": {
      "text/plain": [
       "LogisticRegression(C=1.0, class_weight=None, dual=False, fit_intercept=True,\n",
       "          intercept_scaling=1, max_iter=100, multi_class='ovr', n_jobs=1,\n",
       "          penalty='l2', random_state=None, solver='lbfgs', tol=0.0001,\n",
       "          verbose=0, warm_start=False)"
      ]
     },
     "execution_count": 19,
     "metadata": {},
     "output_type": "execute_result"
    }
   ],
   "source": [
    "# code here "
   ]
  },
  {
   "cell_type": "markdown",
   "metadata": {},
   "source": [
    "### Make predictions and Check Performance\n",
    "\n",
    "Great, we can now try to predict the label for a given example in the test set as shown below:\n",
    "```python\n",
    "# Predict for a random Observation (image)\n",
    "logisticRegr.predict(X_test[0].reshape(1,-1)) # predict the label of first image in transformed test set\n",
    "```"
   ]
  },
  {
   "cell_type": "code",
   "execution_count": 20,
   "metadata": {},
   "outputs": [
    {
     "data": {
      "text/plain": [
       "array([3.])"
      ]
     },
     "execution_count": 20,
     "metadata": {},
     "output_type": "execute_result"
    }
   ],
   "source": [
    "# code here "
   ]
  },
  {
   "cell_type": "markdown",
   "metadata": {},
   "source": [
    "Now we can check for the actual label in our target test set. \n",
    "```python\n",
    "# View label from target \n",
    "y_test[0]\n",
    "```"
   ]
  },
  {
   "cell_type": "code",
   "execution_count": 21,
   "metadata": {},
   "outputs": [
    {
     "data": {
      "text/plain": [
       "3.0"
      ]
     },
     "execution_count": 21,
     "metadata": {},
     "output_type": "execute_result"
    }
   ],
   "source": [
    "# code here "
   ]
  },
  {
   "cell_type": "markdown",
   "metadata": {},
   "source": [
    "Similarly we can try a sequence of images and get the labels as shown below  \n",
    "```python\n",
    "# Get labels for a random sequence of images\n",
    "list(zip(logisticRegr.predict(X_test[0:10]), y_test)) \n",
    "```"
   ]
  },
  {
   "cell_type": "code",
   "execution_count": 22,
   "metadata": {},
   "outputs": [
    {
     "data": {
      "text/plain": [
       "[(3.0, 3.0),\n",
       " (3.0, 3.0),\n",
       " (7.0, 7.0),\n",
       " (8.0, 8.0),\n",
       " (3.0, 3.0),\n",
       " (7.0, 7.0),\n",
       " (8.0, 8.0),\n",
       " (8.0, 8.0),\n",
       " (2.0, 2.0),\n",
       " (1.0, 1.0)]"
      ]
     },
     "execution_count": 22,
     "metadata": {},
     "output_type": "execute_result"
    }
   ],
   "source": [
    "# code here "
   ]
  },
  {
   "cell_type": "markdown",
   "metadata": {},
   "source": [
    "So far so good. All predicted labels are exactly same as the ground truth. To get an over all objective assessment of this classification, we can calculate the classification score using the built in method as below:\n",
    "```python\n",
    "# Calculate the classification score \n",
    "score = logisticRegr.score(X_test, y_test)\n",
    "print(score)\n",
    "```"
   ]
  },
  {
   "cell_type": "code",
   "execution_count": 23,
   "metadata": {},
   "outputs": [
    {
     "name": "stdout",
     "output_type": "stream",
     "text": [
      "0.9171428571428571\n"
     ]
    }
   ],
   "source": [
    "# code here "
   ]
  },
  {
   "cell_type": "markdown",
   "metadata": {},
   "source": [
    "So we have 91% accuracy, with 229 components. This sounds great. We have managed to compress our data from 700+ features to just 229 components (1/3 of original data and can still achieve a high level of classification accuracy. We have run above experiments with classifiers mostly in their vanilla settings. Fine tuning and optimization techniques may help us increase this score. "
   ]
  },
  {
   "cell_type": "markdown",
   "metadata": {},
   "source": [
    "## Level up - Optional \n",
    "\n",
    "- Change the code above and calculate components, time taken and classification score for explained variance as shown in the table below. Fill the outcomes in the given table. \n",
    "\n",
    "```\n",
    "\n",
    "Variance \tNumber of       Time (seconds)      Score\n",
    "Retained    Components\n",
    "\n",
    "1.00\t\n",
    "0.95\t\n",
    "0.90\t\n",
    "0.85\t\n",
    "0.80\n",
    "0.70\n",
    "```\n",
    "- Run the experiment without standardization and record your observations.\n",
    "- Try other classifiers that you are familiar with to study the impact on PCA on each. "
   ]
  },
  {
   "cell_type": "markdown",
   "metadata": {},
   "source": [
    "## Summary \n",
    "\n",
    "In this code along, we looked at the role of PCA in basic image processing with MNIST dataset. Image datasets tend to be very large in size and PCA allows us to use a compressed (or reduced) representation of image data to fulfil the analyses needs. Next, we shall see how these techniques may be applied to slightly more complex image data i.e. human faces with Eigenfaces. "
   ]
  }
 ],
 "metadata": {
  "kernelspec": {
   "display_name": "Python 3",
   "language": "python",
   "name": "python3"
  },
  "language_info": {
   "codemirror_mode": {
    "name": "ipython",
    "version": 3
   },
   "file_extension": ".py",
   "mimetype": "text/x-python",
   "name": "python",
   "nbconvert_exporter": "python",
   "pygments_lexer": "ipython3",
   "version": "3.6.4"
  }
 },
 "nbformat": 4,
 "nbformat_minor": 2
}
